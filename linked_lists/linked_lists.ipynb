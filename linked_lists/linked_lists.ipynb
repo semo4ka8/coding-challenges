{
 "cells": [
  {
   "cell_type": "code",
   "execution_count": 1,
   "id": "d5f1c0e5",
   "metadata": {},
   "outputs": [
    {
     "name": "stdout",
     "output_type": "stream",
     "text": [
      "First list:\n",
      " 90\n",
      "5675\n",
      "70\n",
      "5\n",
      "\n",
      "List with removed value:\n",
      " 90\n",
      "5675\n",
      "5\n",
      "\n"
     ]
    }
   ],
   "source": [
    "# We'll be using our Node class\n",
    "class Node:\n",
    "  def __init__(self, value, next_node=None):\n",
    "    self.value = value\n",
    "    self.next_node = next_node\n",
    "    \n",
    "  def get_value(self):\n",
    "    return self.value\n",
    "  \n",
    "  def get_next_node(self):\n",
    "    return self.next_node\n",
    "  \n",
    "  def set_next_node(self, next_node):\n",
    "    self.next_node = next_node\n",
    "\n",
    "# Our LinkedList class\n",
    "class LinkedList:\n",
    "  def __init__(self, value=None):\n",
    "    self.head_node = Node(value)\n",
    "  \n",
    "  def get_head_node(self):\n",
    "    return self.head_node\n",
    "  \n",
    "# Add your insert_beginning and stringify_list methods below:\n",
    "  def insert_beginning(self, new_value):\n",
    "    new_node = Node(new_value)\n",
    "    new_node.set_next_node(self.head_node)\n",
    "    self.head_node = new_node  \n",
    "\n",
    "  def stringify_list(self):\n",
    "    string_list = \"\"\n",
    "    current_node = self.get_head_node()\n",
    "    while current_node:\n",
    "      if current_node.get_value() != None:\n",
    "        string_list += str(current_node.get_value())+ \"\\n\"\n",
    "      current_node = current_node.get_next_node()\n",
    "    return string_list\n",
    "\n",
    "# Define your remove_node method below:\n",
    "  def remove_node(self, value_to_remove):\n",
    "    current_node = self.get_head_node()\n",
    "    if current_node.get_value() == value_to_remove:\n",
    "      self.head_node = current_node.get_next_node() \n",
    "    else:\n",
    "      while current_node:\n",
    "        next_node = current_node.get_next_node()\n",
    "        if next_node.get_value() == value_to_remove:\n",
    "           current_node.set_next_node(next_node.get_next_node()) \n",
    "           current_node = None\n",
    "        else: \n",
    "           current_node = next_node\n",
    "\n",
    "# Test your code:\n",
    "ll = LinkedList(5)\n",
    "ll.insert_beginning(70)\n",
    "ll.insert_beginning(5675)\n",
    "ll.insert_beginning(90)\n",
    "print('First list:\\n', ll.stringify_list())\n",
    "\n",
    "ll.remove_node(70)\n",
    "print('List with removed value:\\n', ll.stringify_list())"
   ]
  }
 ],
 "metadata": {
  "kernelspec": {
   "display_name": "Python 3 (ipykernel)",
   "language": "python",
   "name": "python3"
  },
  "language_info": {
   "codemirror_mode": {
    "name": "ipython",
    "version": 3
   },
   "file_extension": ".py",
   "mimetype": "text/x-python",
   "name": "python",
   "nbconvert_exporter": "python",
   "pygments_lexer": "ipython3",
   "version": "3.9.7"
  }
 },
 "nbformat": 4,
 "nbformat_minor": 5
}
