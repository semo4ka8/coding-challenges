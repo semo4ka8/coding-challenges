{
 "cells": [
  {
   "cell_type": "code",
   "execution_count": 31,
   "id": "6245e914",
   "metadata": {},
   "outputs": [],
   "source": [
    "import pandas as pd\n",
    "import numpy as np\n",
    "import seaborn as sns\n",
    "import matplotlib.pyplot as plt\n"
   ]
  },
  {
   "cell_type": "markdown",
   "id": "df2f070e",
   "metadata": {},
   "source": [
    "Reading CSV file with data and looking at it's header to understand which values do we have to work with"
   ]
  },
  {
   "cell_type": "code",
   "execution_count": 3,
   "id": "bca33b39",
   "metadata": {},
   "outputs": [
    {
     "name": "stdout",
     "output_type": "stream",
     "text": [
      "   order_id  shop_id  user_id  order_amount  total_items payment_method  \\\n",
      "0         1       53      746           224            2           cash   \n",
      "1         2       92      925            90            1           cash   \n",
      "2         3       44      861           144            1           cash   \n",
      "3         4       18      935           156            1    credit_card   \n",
      "4         5       18      883           156            1    credit_card   \n",
      "\n",
      "            created_at  \n",
      "0  2017-03-13 12:36:56  \n",
      "1  2017-03-03 17:38:52  \n",
      "2   2017-03-14 4:23:56  \n",
      "3  2017-03-26 12:43:37  \n",
      "4   2017-03-01 4:35:11  \n"
     ]
    }
   ],
   "source": [
    "sheet_url = \"https://docs.google.com/spreadsheets/d/16i38oonuX1y1g7C_UAmiK9GkY7cS-64DfiDMNiR41LM/edit#gid=0\"\n",
    "url_1 = sheet_url.replace(\"/edit#gid=\", \"/export?format=csv&gid=\")\n",
    "data = pd.read_csv(url_1)\n",
    "print(data.head())"
   ]
  },
  {
   "cell_type": "markdown",
   "id": "ef49f1fa",
   "metadata": {},
   "source": [
    "Looking at **summary statistics** for given dataset:\n",
    "- data contains 5000 orders;\n",
    "- 100 shops;\n",
    "- average order amount seems to be 3145.13 (Given that we know these shops are selling sneakers, a relatively affordable item, something seems wrong with our analysis.);\n",
    "- maximum order amount is 704000.00, which looks like an outlier (an observation that lies an abnormal distance from other values) and can be a cause of misleading average order amount calculations.  "
   ]
  },
  {
   "cell_type": "code",
   "execution_count": 4,
   "id": "c0f5d4be",
   "metadata": {},
   "outputs": [
    {
     "name": "stdout",
     "output_type": "stream",
     "text": [
      "          order_id      shop_id      user_id   order_amount  total_items\n",
      "count  5000.000000  5000.000000  5000.000000    5000.000000   5000.00000\n",
      "mean   2500.500000    50.078800   849.092400    3145.128000      8.78720\n",
      "std    1443.520003    29.006118    87.798982   41282.539349    116.32032\n",
      "min       1.000000     1.000000   607.000000      90.000000      1.00000\n",
      "25%    1250.750000    24.000000   775.000000     163.000000      1.00000\n",
      "50%    2500.500000    50.000000   849.000000     284.000000      2.00000\n",
      "75%    3750.250000    75.000000   925.000000     390.000000      3.00000\n",
      "max    5000.000000   100.000000   999.000000  704000.000000   2000.00000\n"
     ]
    }
   ],
   "source": [
    "print(data.describe())"
   ]
  },
  {
   "cell_type": "markdown",
   "id": "63498f76",
   "metadata": {},
   "source": [
    "To take closer look at outliers in order_amount column, let\\'s plot the data.\n",
    "\n",
    "As we can see below, there are quite a few outliers in our dataset."
   ]
  },
  {
   "cell_type": "code",
   "execution_count": 68,
   "id": "6787110a",
   "metadata": {},
   "outputs": [
    {
     "data": {
      "image/png": "[encoded data removed]",
      "text/plain": [
       "<Figure size 432x288 with 1 Axes>"
      ]
     },
     "metadata": {},
     "output_type": "display_data"
    }
   ],
   "source": [
    "sns.set_style('darkgrid')\n",
    "sns.boxplot(data = data, x = 'order_amount')\n",
    "plt.title('Order amount distribution, uncleaned data')\n",
    "plt.show()"
   ]
  },
  {
   "cell_type": "markdown",
   "id": "e953f1b4",
   "metadata": {},
   "source": [
    "Adding a column with item price, to find any overpriced items.\n",
    "\n",
    "As we can see, maximum item value is 25725.00, which is way above median value of 153.00 and does not seam right, knowing, that all the shops are selling sneakers."
   ]
  },
  {
   "cell_type": "code",
   "execution_count": 6,
   "id": "b3b4083e",
   "metadata": {},
   "outputs": [
    {
     "name": "stdout",
     "output_type": "stream",
     "text": [
      "count     5000.000000\n",
      "mean       387.742800\n",
      "std       2441.963725\n",
      "min         90.000000\n",
      "25%        133.000000\n",
      "50%        153.000000\n",
      "75%        169.000000\n",
      "max      25725.000000\n",
      "Name: item_price, dtype: float64\n"
     ]
    }
   ],
   "source": [
    "data['item_price'] = data.order_amount / data.total_items\n",
    "print(data['item_price'].describe())"
   ]
  },
  {
   "cell_type": "markdown",
   "id": "7d83f13a",
   "metadata": {},
   "source": [
    "Let's take a look at item prices without 25725.00 outlier. \n",
    "\n",
    "We can see, that there is still one item with a price outside of of our range (around 350.00). But as this outlier has not an absurdly high price, we can leave it as a part of our analysis, because it can be some very specific shoe type, like runner shoe for the long distances, that is using innovative technologies or very unique designer shoes."
   ]
  },
  {
   "cell_type": "code",
   "execution_count": 69,
   "id": "5d671d60",
   "metadata": {},
   "outputs": [
    {
     "data": {
      "image/png": "[encoded data removed]",
      "text/plain": [
       "<Figure size 432x288 with 1 Axes>"
      ]
     },
     "metadata": {},
     "output_type": "display_data"
    }
   ],
   "source": [
    "sns.set_style('darkgrid')\n",
    "sns.boxplot(data = data.item_price[data.item_price < 25000])\n",
    "plt.title('Item price distribution, below 25K')\n",
    "plt.show()"
   ]
  },
  {
   "cell_type": "markdown",
   "id": "d8157139",
   "metadata": {},
   "source": [
    "Let's find out, who made the highest value purchases.\n",
    "\n",
    "Below we can see, that all maximum orders where placed by user \\#607 in shop \\#42 with total items in one order 2000 pieces at 4:00 AM. That should be counted as an outlier, because such customer behaviour is not common and can not be counted in our statistical analysis, as is skewing our data.\n"
   ]
  },
  {
   "cell_type": "code",
   "execution_count": 8,
   "id": "dc83af27",
   "metadata": {},
   "outputs": [
    {
     "name": "stdout",
     "output_type": "stream",
     "text": [
      "      order_id  shop_id  user_id  order_amount  total_items payment_method  \\\n",
      "15          16       42      607        704000         2000    credit_card   \n",
      "60          61       42      607        704000         2000    credit_card   \n",
      "520        521       42      607        704000         2000    credit_card   \n",
      "1104      1105       42      607        704000         2000    credit_card   \n",
      "1362      1363       42      607        704000         2000    credit_card   \n",
      "1436      1437       42      607        704000         2000    credit_card   \n",
      "1562      1563       42      607        704000         2000    credit_card   \n",
      "1602      1603       42      607        704000         2000    credit_card   \n",
      "2153      2154       42      607        704000         2000    credit_card   \n",
      "2297      2298       42      607        704000         2000    credit_card   \n",
      "2835      2836       42      607        704000         2000    credit_card   \n",
      "2969      2970       42      607        704000         2000    credit_card   \n",
      "3332      3333       42      607        704000         2000    credit_card   \n",
      "4056      4057       42      607        704000         2000    credit_card   \n",
      "4646      4647       42      607        704000         2000    credit_card   \n",
      "4868      4869       42      607        704000         2000    credit_card   \n",
      "4882      4883       42      607        704000         2000    credit_card   \n",
      "\n",
      "              created_at  item_price  \n",
      "15    2017-03-07 4:00:00       352.0  \n",
      "60    2017-03-04 4:00:00       352.0  \n",
      "520   2017-03-02 4:00:00       352.0  \n",
      "1104  2017-03-24 4:00:00       352.0  \n",
      "1362  2017-03-15 4:00:00       352.0  \n",
      "1436  2017-03-11 4:00:00       352.0  \n",
      "1562  2017-03-19 4:00:00       352.0  \n",
      "1602  2017-03-17 4:00:00       352.0  \n",
      "2153  2017-03-12 4:00:00       352.0  \n",
      "2297  2017-03-07 4:00:00       352.0  \n",
      "2835  2017-03-28 4:00:00       352.0  \n",
      "2969  2017-03-28 4:00:00       352.0  \n",
      "3332  2017-03-24 4:00:00       352.0  \n",
      "4056  2017-03-28 4:00:00       352.0  \n",
      "4646  2017-03-02 4:00:00       352.0  \n",
      "4868  2017-03-22 4:00:00       352.0  \n",
      "4882  2017-03-25 4:00:00       352.0  \n"
     ]
    }
   ],
   "source": [
    "print(data[data.order_amount == data.order_amount.max()])"
   ]
  },
  {
   "cell_type": "markdown",
   "id": "b377777c",
   "metadata": {},
   "source": [
    "Let's find out, what else was user \\#607 ordering.\n",
    "\n",
    "Only purchases made by user \\#607 where those, whith maximum total amount, so we can remove this user from our data, to make more acurate statistical findings. "
   ]
  },
  {
   "cell_type": "code",
   "execution_count": 9,
   "id": "f528e4b2",
   "metadata": {},
   "outputs": [
    {
     "name": "stdout",
     "output_type": "stream",
     "text": [
      "      order_id  shop_id  user_id  order_amount  total_items payment_method  \\\n",
      "15          16       42      607        704000         2000    credit_card   \n",
      "60          61       42      607        704000         2000    credit_card   \n",
      "520        521       42      607        704000         2000    credit_card   \n",
      "1104      1105       42      607        704000         2000    credit_card   \n",
      "1362      1363       42      607        704000         2000    credit_card   \n",
      "1436      1437       42      607        704000         2000    credit_card   \n",
      "1562      1563       42      607        704000         2000    credit_card   \n",
      "1602      1603       42      607        704000         2000    credit_card   \n",
      "2153      2154       42      607        704000         2000    credit_card   \n",
      "2297      2298       42      607        704000         2000    credit_card   \n",
      "2835      2836       42      607        704000         2000    credit_card   \n",
      "2969      2970       42      607        704000         2000    credit_card   \n",
      "3332      3333       42      607        704000         2000    credit_card   \n",
      "4056      4057       42      607        704000         2000    credit_card   \n",
      "4646      4647       42      607        704000         2000    credit_card   \n",
      "4868      4869       42      607        704000         2000    credit_card   \n",
      "4882      4883       42      607        704000         2000    credit_card   \n",
      "\n",
      "              created_at  item_price  \n",
      "15    2017-03-07 4:00:00       352.0  \n",
      "60    2017-03-04 4:00:00       352.0  \n",
      "520   2017-03-02 4:00:00       352.0  \n",
      "1104  2017-03-24 4:00:00       352.0  \n",
      "1362  2017-03-15 4:00:00       352.0  \n",
      "1436  2017-03-11 4:00:00       352.0  \n",
      "1562  2017-03-19 4:00:00       352.0  \n",
      "1602  2017-03-17 4:00:00       352.0  \n",
      "2153  2017-03-12 4:00:00       352.0  \n",
      "2297  2017-03-07 4:00:00       352.0  \n",
      "2835  2017-03-28 4:00:00       352.0  \n",
      "2969  2017-03-28 4:00:00       352.0  \n",
      "3332  2017-03-24 4:00:00       352.0  \n",
      "4056  2017-03-28 4:00:00       352.0  \n",
      "4646  2017-03-02 4:00:00       352.0  \n",
      "4868  2017-03-22 4:00:00       352.0  \n",
      "4882  2017-03-25 4:00:00       352.0  \n"
     ]
    }
   ],
   "source": [
    "print(data[data.user_id == 607])"
   ]
  },
  {
   "cell_type": "markdown",
   "id": "744fe828",
   "metadata": {},
   "source": [
    "What particular shops are selling the most expensive shoes: "
   ]
  },
  {
   "cell_type": "code",
   "execution_count": 70,
   "id": "04cc191d",
   "metadata": {},
   "outputs": [
    {
     "name": "stdout",
     "output_type": "stream",
     "text": [
      "Shops selling most expesive shoes:  [42 78]\n"
     ]
    }
   ],
   "source": [
    "print('Shops selling most expesive shoes: ', data.shop_id[data.item_price > 250].unique())"
   ]
  },
  {
   "cell_type": "markdown",
   "id": "941543a8",
   "metadata": {},
   "source": [
    "Prices in most expensive shops:"
   ]
  },
  {
   "cell_type": "code",
   "execution_count": 71,
   "id": "08e4b14f",
   "metadata": {},
   "outputs": [
    {
     "name": "stdout",
     "output_type": "stream",
     "text": [
      "Prices in most expensive shops:  [  352. 25725.]\n"
     ]
    }
   ],
   "source": [
    "print('Prices in most expensive shops: ', data[(data.shop_id == 42) | (data.shop_id == 78)].item_price.unique())"
   ]
  },
  {
   "cell_type": "markdown",
   "id": "d7440fdd",
   "metadata": {},
   "source": [
    "As shop with id \\#78 sells unrealistically overpriced shoes (over 25000.00), has to be removed from our data for analysis.\n",
    "\n",
    "Let's take a look at another expensive shop \\#42.\n",
    "\n",
    "Here we can see, that all other users, except user \\#607 were ordering small amount of items. \n",
    "So we are deciding to leave data containing orders from this shop overall, but to remove orders, made by user with id \\#607."
   ]
  },
  {
   "cell_type": "code",
   "execution_count": 12,
   "id": "5ad91879",
   "metadata": {},
   "outputs": [
    {
     "name": "stdout",
     "output_type": "stream",
     "text": [
      "      order_id  shop_id  user_id  order_amount  total_items payment_method  \\\n",
      "15          16       42      607        704000         2000    credit_card   \n",
      "40          41       42      793           352            1    credit_card   \n",
      "60          61       42      607        704000         2000    credit_card   \n",
      "308        309       42      770           352            1    credit_card   \n",
      "409        410       42      904           704            2    credit_card   \n",
      "520        521       42      607        704000         2000    credit_card   \n",
      "834        835       42      792           352            1           cash   \n",
      "835        836       42      819           704            2           cash   \n",
      "938        939       42      808          1056            3    credit_card   \n",
      "979        980       42      744           352            1          debit   \n",
      "1104      1105       42      607        704000         2000    credit_card   \n",
      "1362      1363       42      607        704000         2000    credit_card   \n",
      "1364      1365       42      797          1760            5           cash   \n",
      "1367      1368       42      926          1408            4           cash   \n",
      "1436      1437       42      607        704000         2000    credit_card   \n",
      "1471      1472       42      907          1408            4          debit   \n",
      "1512      1513       42      946           352            1          debit   \n",
      "1520      1521       42      756           704            2          debit   \n",
      "1562      1563       42      607        704000         2000    credit_card   \n",
      "1602      1603       42      607        704000         2000    credit_card   \n",
      "1911      1912       42      739           704            2           cash   \n",
      "1929      1930       42      770           352            1    credit_card   \n",
      "2003      2004       42      934           704            2           cash   \n",
      "2018      2019       42      739           352            1          debit   \n",
      "2053      2054       42      951           352            1          debit   \n",
      "2153      2154       42      607        704000         2000    credit_card   \n",
      "2273      2274       42      747           704            2          debit   \n",
      "2297      2298       42      607        704000         2000    credit_card   \n",
      "2491      2492       42      868           704            2          debit   \n",
      "2609      2610       42      868           704            2          debit   \n",
      "2766      2767       42      970           704            2    credit_card   \n",
      "2835      2836       42      607        704000         2000    credit_card   \n",
      "2969      2970       42      607        704000         2000    credit_card   \n",
      "2987      2988       42      819          1056            3           cash   \n",
      "3332      3333       42      607        704000         2000    credit_card   \n",
      "3513      3514       42      726          1056            3          debit   \n",
      "3651      3652       42      830           352            1    credit_card   \n",
      "3697      3698       42      839           352            1          debit   \n",
      "3903      3904       42      975           352            1          debit   \n",
      "3998      3999       42      886           352            1          debit   \n",
      "4056      4057       42      607        704000         2000    credit_card   \n",
      "4231      4232       42      962           352            1           cash   \n",
      "4294      4295       42      859           704            2           cash   \n",
      "4326      4327       42      788           704            2          debit   \n",
      "4421      4422       42      736           704            2    credit_card   \n",
      "4625      4626       42      809           352            1    credit_card   \n",
      "4646      4647       42      607        704000         2000    credit_card   \n",
      "4745      4746       42      872           352            1          debit   \n",
      "4767      4768       42      720           704            2    credit_card   \n",
      "4868      4869       42      607        704000         2000    credit_card   \n",
      "4882      4883       42      607        704000         2000    credit_card   \n",
      "\n",
      "               created_at  item_price  \n",
      "15     2017-03-07 4:00:00       352.0  \n",
      "40    2017-03-24 14:15:41       352.0  \n",
      "60     2017-03-04 4:00:00       352.0  \n",
      "308   2017-03-11 18:14:39       352.0  \n",
      "409   2017-03-04 14:32:58       352.0  \n",
      "520    2017-03-02 4:00:00       352.0  \n",
      "834   2017-03-25 21:31:25       352.0  \n",
      "835   2017-03-09 14:15:15       352.0  \n",
      "938   2017-03-13 23:43:45       352.0  \n",
      "979   2017-03-12 13:09:04       352.0  \n",
      "1104   2017-03-24 4:00:00       352.0  \n",
      "1362   2017-03-15 4:00:00       352.0  \n",
      "1364   2017-03-10 6:28:21       352.0  \n",
      "1367   2017-03-13 2:38:34       352.0  \n",
      "1436   2017-03-11 4:00:00       352.0  \n",
      "1471  2017-03-12 23:00:22       352.0  \n",
      "1512  2017-03-24 13:35:04       352.0  \n",
      "1520  2017-03-22 13:10:31       352.0  \n",
      "1562   2017-03-19 4:00:00       352.0  \n",
      "1602   2017-03-17 4:00:00       352.0  \n",
      "1911   2017-03-07 5:42:52       352.0  \n",
      "1929   2017-03-17 8:11:13       352.0  \n",
      "2003   2017-03-26 9:21:26       352.0  \n",
      "2018  2017-03-01 12:42:26       352.0  \n",
      "2053  2017-03-19 11:49:12       352.0  \n",
      "2153   2017-03-12 4:00:00       352.0  \n",
      "2273  2017-03-27 20:48:19       352.0  \n",
      "2297   2017-03-07 4:00:00       352.0  \n",
      "2491  2017-03-01 18:33:33       352.0  \n",
      "2609  2017-03-23 18:10:14       352.0  \n",
      "2766  2017-03-05 10:45:42       352.0  \n",
      "2835   2017-03-28 4:00:00       352.0  \n",
      "2969   2017-03-28 4:00:00       352.0  \n",
      "2987   2017-03-03 9:09:25       352.0  \n",
      "3332   2017-03-24 4:00:00       352.0  \n",
      "3513  2017-03-24 17:51:05       352.0  \n",
      "3651  2017-03-24 22:26:58       352.0  \n",
      "3697   2017-03-12 2:45:09       352.0  \n",
      "3903   2017-03-12 1:28:31       352.0  \n",
      "3998  2017-03-09 20:10:41       352.0  \n",
      "4056   2017-03-28 4:00:00       352.0  \n",
      "4231   2017-03-04 0:01:19       352.0  \n",
      "4294  2017-03-24 20:50:40       352.0  \n",
      "4326  2017-03-16 23:37:57       352.0  \n",
      "4421  2017-03-01 12:19:49       352.0  \n",
      "4625   2017-03-11 8:21:26       352.0  \n",
      "4646   2017-03-02 4:00:00       352.0  \n",
      "4745   2017-03-24 0:57:24       352.0  \n",
      "4767  2017-03-14 10:26:08       352.0  \n",
      "4868   2017-03-22 4:00:00       352.0  \n",
      "4882   2017-03-25 4:00:00       352.0  \n"
     ]
    }
   ],
   "source": [
    "print(data[data.shop_id == 42])"
   ]
  },
  {
   "cell_type": "markdown",
   "id": "9e7b0516",
   "metadata": {},
   "source": [
    "**Removing outliers**, that we found earlier:\n",
    "- shop with id \\#78 sells unrealistically overpriced shoes (over 25000.00);\n",
    "- orders made by user \\#607, who was ordering same extremely large amounts of high priced items from the same shop."
   ]
  },
  {
   "cell_type": "code",
   "execution_count": 13,
   "id": "326f4804",
   "metadata": {},
   "outputs": [
    {
     "name": "stdout",
     "output_type": "stream",
     "text": [
      "          order_id      shop_id      user_id  order_amount  total_items  \\\n",
      "count  4937.000000  4937.000000  4937.000000   4937.000000  4937.000000   \n",
      "mean   2499.551347    49.846465   849.752279    302.580514     1.994734   \n",
      "std    1444.069407    29.061131    86.840313    160.804912     0.982821   \n",
      "min       1.000000     1.000000   700.000000     90.000000     1.000000   \n",
      "25%    1248.000000    24.000000   775.000000    163.000000     1.000000   \n",
      "50%    2497.000000    50.000000   850.000000    284.000000     2.000000   \n",
      "75%    3751.000000    74.000000   925.000000    387.000000     3.000000   \n",
      "max    5000.000000   100.000000   999.000000   1760.000000     8.000000   \n",
      "\n",
      "        item_price  \n",
      "count  4937.000000  \n",
      "mean    151.788536  \n",
      "std      29.034215  \n",
      "min      90.000000  \n",
      "25%     132.000000  \n",
      "50%     153.000000  \n",
      "75%     166.000000  \n",
      "max     352.000000  \n"
     ]
    }
   ],
   "source": [
    "data_cleaned = data[(data.shop_id != 78) & (data.user_id != 607)]\n",
    "print(data_cleaned.describe())"
   ]
  },
  {
   "cell_type": "markdown",
   "id": "bbbac5e1",
   "metadata": {},
   "source": [
    "Plotting order amount distribution"
   ]
  },
  {
   "cell_type": "code",
   "execution_count": 72,
   "id": "26a3e392",
   "metadata": {},
   "outputs": [
    {
     "data": {
      "image/png": "[encoded data removed]",
      "text/plain": [
       "<Figure size 432x288 with 1 Axes>"
      ]
     },
     "metadata": {},
     "output_type": "display_data"
    }
   ],
   "source": [
    "sns.set_style('darkgrid')\n",
    "sns.boxplot(data = data_cleaned, x = 'order_amount')\n",
    "plt.title('Order amount distribution')\n",
    "plt.show()"
   ]
  },
  {
   "cell_type": "markdown",
   "id": "ef904054",
   "metadata": {},
   "source": [
    "Printing some summary statistics for the cleaned from outliers data:"
   ]
  },
  {
   "cell_type": "code",
   "execution_count": 15,
   "id": "b21622f6",
   "metadata": {},
   "outputs": [
    {
     "name": "stdout",
     "output_type": "stream",
     "text": [
      "Average order amount:  302.58 that lays between minimum of  90  and maximum of  1760 .\n",
      "Average order contained:  2.0  items, with maximum ordered items per single order being  8 .\n",
      "Average item price is:  151.79  in range from  90.0  to  352.0 .\n"
     ]
    }
   ],
   "source": [
    "print('Average order amount: ', np.round(np.mean(data_cleaned.order_amount), 2), 'that lays between minimum of ',\\\n",
    "      np.min(data_cleaned.order_amount), ' and maximum of ', np.max(data_cleaned.order_amount), '.')\n",
    "print('Average order contained: ', np.round(np.mean(data_cleaned.total_items)), \\\n",
    "      ' items, with maximum ordered items per single order being ', np.max(data_cleaned.total_items), '.')\n",
    "print('Average item price is: ', np.round(np.mean(data_cleaned.item_price), 2), ' in range from ',\\\n",
    "      np.min(data_cleaned.item_price), ' to ', np.max(data_cleaned.item_price), '.')"
   ]
  },
  {
   "cell_type": "markdown",
   "id": "446de214",
   "metadata": {},
   "source": [
    "Plotting total orders by store distribution:"
   ]
  },
  {
   "cell_type": "code",
   "execution_count": 16,
   "id": "fae6e3c4",
   "metadata": {},
   "outputs": [
    {
     "data": {
      "image/png": "[encoded data removed]",
      "text/plain": [
       "<Figure size 432x288 with 1 Axes>"
      ]
     },
     "metadata": {},
     "output_type": "display_data"
    }
   ],
   "source": [
    "total_order_amount_by_store = data_cleaned.groupby('shop_id').order_amount.sum()\n",
    "sns.set_style('darkgrid')\n",
    "sns.violinplot(x = total_order_amount_by_store)\n",
    "plt.title('Total order amount by store')\n",
    "plt.show()"
   ]
  },
  {
   "cell_type": "code",
   "execution_count": 17,
   "id": "137f2d42",
   "metadata": {},
   "outputs": [
    {
     "name": "stdout",
     "output_type": "stream",
     "text": [
      "Average total order amount for one shop is:  15089.29\n",
      "Minimum total order amount for one shop is:  6840\n",
      "Maximum total order amount for one shop is:  23128\n"
     ]
    }
   ],
   "source": [
    "print('Average total order amount for one shop is: ', np.round(total_order_amount_by_store.mean(), 2))\n",
    "print('Minimum total order amount for one shop is: ',data_cleaned.groupby('shop_id').order_amount.sum().min())\n",
    "print('Maximum total order amount for one shop is: ',data_cleaned.groupby('shop_id').order_amount.sum().max())"
   ]
  },
  {
   "cell_type": "markdown",
   "id": "b75032ef",
   "metadata": {},
   "source": [
    "Plotting sales count by shop(how many orders each shop made):"
   ]
  },
  {
   "cell_type": "code",
   "execution_count": 18,
   "id": "1c54fdf9",
   "metadata": {},
   "outputs": [
    {
     "data": {
      "image/png": "[encoded data removed]",
      "text/plain": [
       "<Figure size 432x288 with 1 Axes>"
      ]
     },
     "metadata": {},
     "output_type": "display_data"
    }
   ],
   "source": [
    "plt.plot(data_cleaned.groupby('shop_id').count()['order_id'])\n",
    "plt.title('Order count by shop')\n",
    "plt.xlabel('Shop id')\n",
    "plt.ylabel('Total orders count')\n",
    "plt.show()"
   ]
  },
  {
   "cell_type": "markdown",
   "id": "592176b3",
   "metadata": {},
   "source": [
    "We can see below, that shop \\#53 made 68 sales, which is maximum within shops in our data, while shop \\#42 made a minimum of 34 sales.\n",
    "Average sales count for one shop is:  50.0"
   ]
  },
  {
   "cell_type": "code",
   "execution_count": 19,
   "id": "d045f271",
   "metadata": {},
   "outputs": [
    {
     "name": "stdout",
     "output_type": "stream",
     "text": [
      "    shop_id  sales_count\n",
      "52       53           68\n",
      "70       71           66\n",
      "18       19           64\n",
      "12       13           63\n",
      "87       89           61\n",
      "..      ...          ...\n",
      "55       56           37\n",
      "66       67           37\n",
      "83       85           35\n",
      "37       38           35\n",
      "41       42           34\n",
      "\n",
      "[99 rows x 2 columns]\n",
      "Average sales count for one shop is:  50.0\n"
     ]
    }
   ],
   "source": [
    "order_count = data_cleaned.groupby('shop_id').count()['order_id'].reset_index().sort_values(['order_id'], ascending=False).\\\n",
    "            rename(columns={'order_id': 'sales_count'})\n",
    "print(order_count)\n",
    "print('Average sales count for one shop is: ', np.round(np.mean(order_count.sales_count)))"
   ]
  },
  {
   "cell_type": "markdown",
   "id": "5e1648bd",
   "metadata": {},
   "source": [
    "We can see below, that shop \\#13 sold 136 pairs, which is maximum within shops in our data, while shop \\#42 sold a minimal 63 pairs of sneakers. Average sold items total for one shop is:  99.0 pairs of shoes."
   ]
  },
  {
   "cell_type": "code",
   "execution_count": 20,
   "id": "7cbcaa0a",
   "metadata": {},
   "outputs": [
    {
     "name": "stdout",
     "output_type": "stream",
     "text": [
      "    shop_id  total_items\n",
      "12       13          136\n",
      "82       84          132\n",
      "52       53          130\n",
      "70       71          130\n",
      "79       81          128\n",
      "..      ...          ...\n",
      "43       44           71\n",
      "15       16           71\n",
      "55       56           69\n",
      "83       85           67\n",
      "41       42           63\n",
      "\n",
      "[99 rows x 2 columns]\n",
      "Average sold items total for one shop is:  99.0 pairs of shoes.\n"
     ]
    }
   ],
   "source": [
    "shop_items_total = data_cleaned.groupby('shop_id').sum()['total_items'].reset_index().\\\n",
    "                   sort_values(['total_items'], ascending=False)\n",
    "print(shop_items_total)\n",
    "print('Average sold items total for one shop is: ', np.round(np.mean(shop_items_total.total_items)), 'pairs of shoes.')"
   ]
  },
  {
   "cell_type": "markdown",
   "id": "1ff1092c",
   "metadata": {},
   "source": [
    "From scatter plot below, we can see, that middle priced sneackers were sold the most. But there is no strong relationship between price increase and sales increace."
   ]
  },
  {
   "cell_type": "code",
   "execution_count": 21,
   "id": "5c9ccd87",
   "metadata": {},
   "outputs": [
    {
     "data": {
      "image/png": "[encoded data removed]",
      "text/plain": [
       "<Figure size 432x288 with 1 Axes>"
      ]
     },
     "metadata": {},
     "output_type": "display_data"
    }
   ],
   "source": [
    "sales_by_price = data_cleaned.groupby('item_price').total_items.sum().reset_index().sort_values(['item_price'])\n",
    "sns.scatterplot(x = sales_by_price.item_price, y = sales_by_price.total_items)\n",
    "plt.title('Sold pairs by price')\n",
    "plt.show()"
   ]
  },
  {
   "cell_type": "markdown",
   "id": "6985235b",
   "metadata": {},
   "source": [
    "Finding customer, who ordered the most pairs of sneackers.\n",
    "\n",
    "Average customer ordered total of:  33.0 pairs of shoes in 30 days period, while customer \\#718 ordered total of 58 pairs, which is maximum within data.\n",
    "\n",
    "\n"
   ]
  },
  {
   "cell_type": "code",
   "execution_count": 22,
   "id": "e4333380",
   "metadata": {},
   "outputs": [
    {
     "name": "stdout",
     "output_type": "stream",
     "text": [
      "     user_id  total_items\n",
      "18       718           58\n",
      "45       745           55\n",
      "147      847           54\n",
      "87       787           54\n",
      "232      932           53\n",
      "..       ...          ...\n",
      "239      939           15\n",
      "19       719           15\n",
      "50       750           15\n",
      "112      812           14\n",
      "202      902           14\n",
      "\n",
      "[300 rows x 2 columns]\n",
      "Average customer ordered total of:  33.0 pairs of shoes in 30 days period.\n"
     ]
    }
   ],
   "source": [
    "customer_orders = data_cleaned.groupby('user_id').total_items.sum().reset_index().sort_values(['total_items'], ascending=False)\n",
    "print(customer_orders)\n",
    "print('Average customer ordered total of: ', np.round(np.mean(customer_orders.total_items)), 'pairs of shoes in 30 days period.')"
   ]
  },
  {
   "cell_type": "markdown",
   "id": "0bf2c023",
   "metadata": {},
   "source": [
    "Finding customer, who spent the most.\n",
    "\n",
    "Average customer spent total of:  4979.0 on sneakers in 30 days period, while customer \\#718 spent total of 8952.0, which is maximum within data."
   ]
  },
  {
   "cell_type": "code",
   "execution_count": 23,
   "id": "62140d99",
   "metadata": {},
   "outputs": [
    {
     "name": "stdout",
     "output_type": "stream",
     "text": [
      "     user_id  order_amount\n",
      "18       718          8952\n",
      "87       787          8532\n",
      "168      868          8317\n",
      "34       734          8200\n",
      "147      847          8197\n",
      "..       ...           ...\n",
      "17       717          2337\n",
      "19       719          2314\n",
      "239      939          2196\n",
      "202      902          2108\n",
      "112      812          2102\n",
      "\n",
      "[300 rows x 2 columns]\n",
      "Average customer spent total of:  4979.0 on sneakers in 30 days period.\n"
     ]
    }
   ],
   "source": [
    "customer_orders_amount = data_cleaned.groupby('user_id').order_amount.sum().reset_index().sort_values(['order_amount'],\\\n",
    "                                                                                                      ascending=False)\n",
    "print(customer_orders_amount)\n",
    "print('Average customer spent total of: ', np.round(np.mean(customer_orders_amount.order_amount)),\\\n",
    "      'on sneakers in 30 days period.')"
   ]
  },
  {
   "cell_type": "markdown",
   "id": "0f15c554",
   "metadata": {},
   "source": [
    "From plot below we can see, that more customers choose to pay with credit card, compared to debit and cash payments, but the difference is not signifficant."
   ]
  },
  {
   "cell_type": "code",
   "execution_count": 24,
   "id": "2d35cd98",
   "metadata": {},
   "outputs": [
    {
     "data": {
      "image/png": "[encoded data removed]",
      "text/plain": [
       "<Figure size 432x288 with 1 Axes>"
      ]
     },
     "metadata": {},
     "output_type": "display_data"
    }
   ],
   "source": [
    "sns.countplot(data=data_cleaned, x='payment_method')\n",
    "plt.title('Payment method destribution')\n",
    "plt.xlabel('Payment method')\n",
    "plt.ylabel('Orders')\n",
    "plt.show()"
   ]
  },
  {
   "cell_type": "markdown",
   "id": "39e091d8",
   "metadata": {},
   "source": [
    "Changing type of data in column 'created_at' to datetime, adding new column with extacted hour of purchase and ploting orders by hour.\n",
    "\n",
    "We can see, that in 24 hour range more orders were placed at 3 and 7 AM, as well as 5 PM (17:00), but there is no signifficant difference in order times.  "
   ]
  },
  {
   "cell_type": "code",
   "execution_count": 40,
   "id": "79af9155",
   "metadata": {},
   "outputs": [
    {
     "data": {
      "image/png": "[encoded data removed]",
      "text/plain": [
       "<Figure size 432x288 with 1 Axes>"
      ]
     },
     "metadata": {},
     "output_type": "display_data"
    }
   ],
   "source": [
    "data_cleaned.loc[:, 'created_at'] = data_cleaned.created_at.astype('datetime64[ns]')\n",
    "data_cleaned.loc[:, 'order_time'] = data_cleaned['created_at'].dt.hour\n",
    "\n",
    "sns.countplot(x= data_cleaned['order_time'])\n",
    "plt.title('Orders by hour')\n",
    "plt.xlabel('Hour')\n",
    "plt.ylabel('Order count')\n",
    "plt.show()"
   ]
  }
 ],
 "metadata": {
  "kernelspec": {
   "display_name": "Python 3 (ipykernel)",
   "language": "python",
   "name": "python3"
  },
  "language_info": {
   "codemirror_mode": {
    "name": "ipython",
    "version": 3
   },
   "file_extension": ".py",
   "mimetype": "text/x-python",
   "name": "python",
   "nbconvert_exporter": "python",
   "pygments_lexer": "ipython3",
   "version": "3.9.7"
  }
 },
 "nbformat": 4,
 "nbformat_minor": 5
}
